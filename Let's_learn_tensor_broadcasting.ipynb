{
  "nbformat": 4,
  "nbformat_minor": 0,
  "metadata": {
    "colab": {
      "provenance": [],
      "authorship_tag": "ABX9TyO2rhqfp1iiX1PAzm6savvL",
      "include_colab_link": true
    },
    "kernelspec": {
      "name": "python3",
      "display_name": "Python 3"
    },
    "language_info": {
      "name": "python"
    }
  },
  "cells": [
    {
      "cell_type": "markdown",
      "metadata": {
        "id": "view-in-github",
        "colab_type": "text"
      },
      "source": [
        "<a href=\"https://colab.research.google.com/github/vukrosic/become-ai-researcher/blob/main/Let's_learn_tensor_broadcasting.ipynb\" target=\"_parent\"><img src=\"https://colab.research.google.com/assets/colab-badge.svg\" alt=\"Open In Colab\"/></a>"
      ]
    },
    {
      "cell_type": "code",
      "source": [
        "# Install PyTorch if you haven't already\n",
        "!pip install torch"
      ],
      "metadata": {
        "id": "UJHrNEIepo3W"
      },
      "execution_count": null,
      "outputs": []
    },
    {
      "cell_type": "code",
      "source": [
        "# Import PyTorch\n",
        "import torch"
      ],
      "metadata": {
        "id": "MVM06iKQpzzi"
      },
      "execution_count": null,
      "outputs": []
    },
    {
      "cell_type": "code",
      "execution_count": null,
      "metadata": {
        "colab": {
          "base_uri": "https://localhost:8080/"
        },
        "id": "F6Klv3C8pR-6",
        "outputId": "072aff1e-4351-455b-fb35-8b0b1fab226b"
      },
      "outputs": [
        {
          "output_type": "stream",
          "name": "stdout",
          "text": [
            "Tensor 1: tensor([1, 2, 3])\n",
            "Tensor 2: tensor([4, 5, 6])\n"
          ]
        }
      ],
      "source": [
        "# Create two tensors with the same shape\n",
        "tensor1 = torch.tensor([1, 2, 3])\n",
        "tensor2 = torch.tensor([4, 5, 6])\n",
        "\n",
        "# Print the tensors\n",
        "print(\"Tensor 1:\", tensor1)\n",
        "print(\"Tensor 2:\", tensor2)"
      ]
    },
    {
      "cell_type": "code",
      "source": [
        "# Add the tensors element-wise\n",
        "result = tensor1 + tensor2\n",
        "print(\"Result:\", result)\n",
        "\n",
        "# Now, let's try adding a tensor with a scalar\n",
        "tensor = torch.tensor([1, 2, 3])\n",
        "scalar = 4\n",
        "\n",
        "# Add the tensor and the scalar\n",
        "result = tensor + scalar\n",
        "print(\"Result:\", result)"
      ],
      "metadata": {
        "colab": {
          "base_uri": "https://localhost:8080/"
        },
        "id": "z_UCgmHDqMCX",
        "outputId": "94741745-4e41-4430-88b7-88604e5e965e"
      },
      "execution_count": null,
      "outputs": [
        {
          "output_type": "stream",
          "name": "stdout",
          "text": [
            "Result: tensor([5, 7, 9])\n",
            "Result: tensor([5, 6, 7])\n"
          ]
        }
      ]
    },
    {
      "cell_type": "code",
      "source": [
        "# As you can see, the scalar is broadcasted to the shape of the tensor\n",
        "# Now, let's try adding two tensors with different shapes\n",
        "tensor1 = torch.tensor([1, 2, 3])\n",
        "tensor2 = torch.tensor([4, 3])\n",
        "\n",
        "# Try adding the tensors\n",
        "try:\n",
        "    result = tensor1 + tensor2\n",
        "    print(\"Result:\", result)\n",
        "except RuntimeError as e:\n",
        "    print(\"Error:\", e)"
      ],
      "metadata": {
        "colab": {
          "base_uri": "https://localhost:8080/"
        },
        "id": "ZLSLp4KNqR5L",
        "outputId": "5055a490-ee30-490a-9066-6c75d60f5981"
      },
      "execution_count": null,
      "outputs": [
        {
          "output_type": "stream",
          "name": "stdout",
          "text": [
            "Error: The size of tensor a (3) must match the size of tensor b (2) at non-singleton dimension 0\n"
          ]
        }
      ]
    },
    {
      "cell_type": "code",
      "source": [
        "# Now, let's try adding two tensors where one of them has a singleton dimension\n",
        "tensor1 = torch.tensor([1, 2, 3])\n",
        "tensor2 = torch.tensor([[4]])\n",
        "\n",
        "# Try adding the tensors\n",
        "try:\n",
        "    result = tensor1 + tensor2\n",
        "    print(\"Result:\", result)\n",
        "except RuntimeError as e:\n",
        "    print(\"Error:\", e)"
      ],
      "metadata": {
        "colab": {
          "base_uri": "https://localhost:8080/"
        },
        "id": "KHXR0J64qUuL",
        "outputId": "f4a30143-31c6-49c1-be24-096f128cf346"
      },
      "execution_count": null,
      "outputs": [
        {
          "output_type": "stream",
          "name": "stdout",
          "text": [
            "Result: tensor([[5, 6, 7],\n",
            "        [7, 8, 9]])\n"
          ]
        }
      ]
    },
    {
      "cell_type": "code",
      "source": [
        "# Now, let's try adding two tensors where one of them has a singleton dimension at the end\n",
        "tensor1 = torch.tensor([[1, 2, 3]])\n",
        "tensor2 = torch.tensor([4])\n",
        "\n",
        "# Try adding the tensors\n",
        "try:\n",
        "    result = tensor1 + tensor2\n",
        "    print(\"Result:\", result)\n",
        "except RuntimeError as e:\n",
        "    print(\"Error:\", e)"
      ],
      "metadata": {
        "colab": {
          "base_uri": "https://localhost:8080/"
        },
        "id": "_TB3QZyKskFq",
        "outputId": "1451a632-8428-48ef-e54f-0859c0e287de"
      },
      "execution_count": null,
      "outputs": [
        {
          "output_type": "stream",
          "name": "stdout",
          "text": [
            "Result: tensor([[5, 6, 7]])\n"
          ]
        }
      ]
    },
    {
      "cell_type": "code",
      "source": [
        "# Now, let's try adding two tensors where one of them has a singleton dimension at the beginning\n",
        "tensor1 = torch.tensor([1, 2, 3])\n",
        "tensor2 = torch.tensor([[4], [5], [6]])\n",
        "\n",
        "# Try adding the tensors\n",
        "result = tensor1 + tensor2\n",
        "print(\"Result:\", result)"
      ],
      "metadata": {
        "colab": {
          "base_uri": "https://localhost:8080/"
        },
        "id": "gLhnNiudsssw",
        "outputId": "0aff5a7e-cbde-4b18-b6d9-092597ba42e7"
      },
      "execution_count": null,
      "outputs": [
        {
          "output_type": "stream",
          "name": "stdout",
          "text": [
            "Result: tensor([[5, 6, 7],\n",
            "        [6, 7, 8],\n",
            "        [7, 8, 9]])\n"
          ]
        }
      ]
    },
    {
      "cell_type": "code",
      "source": [
        "# Now, let's try using the torch.broadcast_tensors function\n",
        "tensor1 = torch.tensor([1, 2, 3])\n",
        "tensor2 = torch.tensor([4])\n",
        "\n",
        "# Use torch.broadcast_tensors to broadcast the tensors\n",
        "broadcasted_tensors = torch.broadcast_tensors(tensor1, tensor2)\n",
        "\n",
        "# Print the broadcasted tensors\n",
        "print(\"Broadcasted Tensor 1:\", broadcasted_tensors[0])\n",
        "print(\"Broadcasted Tensor 2:\", broadcasted_tensors[1])"
      ],
      "metadata": {
        "colab": {
          "base_uri": "https://localhost:8080/"
        },
        "id": "oa197K3qs8Ka",
        "outputId": "a29d37d2-f1f7-4b0d-e663-20a90baaaaa2"
      },
      "execution_count": null,
      "outputs": [
        {
          "output_type": "stream",
          "name": "stdout",
          "text": [
            "Broadcasted Tensor 1: tensor([1, 2, 3])\n",
            "Broadcasted Tensor 2: tensor([4, 4, 4])\n"
          ]
        }
      ]
    },
    {
      "cell_type": "code",
      "source": [
        "# As you can see, the tensors are broadcasted to the same shape\n",
        "# Now, let's try using the torch.broadcast_tensors function with multiple tensors\n",
        "tensor1 = torch.tensor([1, 2, 3])\n",
        "tensor2 = torch.tensor([4])\n",
        "tensor3 = torch.tensor([[5], [6], [7]])\n",
        "\n",
        "# Use torch.broadcast_tensors to broadcast the tensors\n",
        "broadcasted_tensors = torch.broadcast_tensors(tensor1, tensor2, tensor3)\n",
        "\n",
        "# Print the broadcasted tensors\n",
        "print(\"Broadcasted Tensor 1:\", broadcasted_tensors[0])\n",
        "print(\"Broadcasted Tensor 2:\", broadcasted_tensors[1])\n",
        "print(\"Broadcasted Tensor 3:\", broadcasted_tensors[2])"
      ],
      "metadata": {
        "colab": {
          "base_uri": "https://localhost:8080/"
        },
        "id": "8Aq76OTyvyo_",
        "outputId": "c9753ff8-3b73-4eb5-8617-9f9287749bc2"
      },
      "execution_count": null,
      "outputs": [
        {
          "output_type": "stream",
          "name": "stdout",
          "text": [
            "Broadcasted Tensor 1: tensor([[1, 2, 3],\n",
            "        [1, 2, 3],\n",
            "        [1, 2, 3]])\n",
            "Broadcasted Tensor 2: tensor([[4, 4, 4],\n",
            "        [4, 4, 4],\n",
            "        [4, 4, 4]])\n",
            "Broadcasted Tensor 3: tensor([[5, 5, 5],\n",
            "        [6, 6, 6],\n",
            "        [7, 7, 7]])\n"
          ]
        }
      ]
    },
    {
      "cell_type": "code",
      "source": [
        "tensor1 = torch.tensor([1, 2, 3], dtype=torch.float32)\n",
        "tensor2 = torch.tensor([4, 5, 6], dtype=torch.int32)\n",
        "\n",
        "result = tensor1 + tensor2\n",
        "print(\"Result:\", result)"
      ],
      "metadata": {
        "colab": {
          "base_uri": "https://localhost:8080/"
        },
        "id": "I63cnq4XwTsX",
        "outputId": "0af97fa2-ffcc-4395-ef6d-ee7485ee40fc"
      },
      "execution_count": null,
      "outputs": [
        {
          "output_type": "stream",
          "name": "stdout",
          "text": [
            "Result: tensor([5., 7., 9.])\n"
          ]
        }
      ]
    }
  ]
}